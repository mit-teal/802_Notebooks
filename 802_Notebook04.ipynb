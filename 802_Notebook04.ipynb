{
 "cells": [
  {
   "cell_type": "markdown",
   "id": "fa12ea89",
   "metadata": {},
   "source": [
    "<h1 style=\"color: #90409C\"><ins>Notebook 4:</ins> Motion of Charged Objects in Electric and Magnetic Fields</h1>\n",
    "\n",
    "<br/>"
   ]
  },
  {
   "cell_type": "markdown",
   "id": "a7ad9e18",
   "metadata": {},
   "source": [
    "<h4 style=\"color: #90409C\"><i>This notebook was authored by the ES.802 + 8.02 Course Team, Copyright 2023 MIT All Rights Reserved.</i></h4>\n",
    "\n",
    "<a name='section_4_1'></a>\n",
    "\n",
    "<h2 style=\"border:1px; border-style:solid; padding: 0.25em; color: #FFFFFF; background-color: #90409C\">4.1 Completing the Code</h2>  \n",
    "\n",
    "| [4.1 Completing the Code](#section_4_1) | [4.2 Uniform E](#section_4_2) |  [4.3 Uniform B](#section_4_3) | [4.4 Uniform E and B](#section_4_4) | [4.5 Background](#section_4_5) | [4.6 Additional Exploration](#section_4_6) |"
   ]
  },
  {
   "cell_type": "markdown",
   "id": "83c4ba0a",
   "metadata": {},
   "source": [
    "<h3>Overview</h3>\n",
    "\n",
    "The objective of this notebook is to visualize how the Lorentz force affects the trajectory of particles in E and B fields. Your first step is to define the `Lorentz_F` function by completing one line of code below. The other functions in this section are defined for you, and govern how the Lorentz force changes the position and velocity.\n",
    "\n",
    "<b>Note:</b> If you need to know more about the Lorentz force and the other functions, see the [Background](#section_4_5) section."
   ]
  },
  {
   "cell_type": "code",
   "execution_count": null,
   "id": "24b40b90",
   "metadata": {},
   "outputs": [],
   "source": [
    "#>>>RUN: 4.1-runcell01\n",
    "\n",
    "#Run this cell to import the relevant libraries for this notebook.\n",
    "from vpython import *  #Here we're importing all the vpython package\n",
    "from simulate_motion import simulate_motion\n",
    "from cyclotron import cyclotron"
   ]
  },
  {
   "cell_type": "code",
   "execution_count": null,
   "id": "ab9e1e16",
   "metadata": {},
   "outputs": [],
   "source": [
    "#>>>COMPLETE: 4.1-runcell02\n",
    "\n",
    "def Lorentz_F(q,v,E,B):\n",
    "    # calculates and returns the Lorentz force given:\n",
    "    # q= charge of object, v= velocity vector, E= Electric field vector and B= Magnetic field vector\n",
    "    # In vpython, cross(A,B) returns the cross product A x B\n",
    "    \n",
    "    F = 0 #YOUR CODE HERE\n",
    "    return F\n",
    "\n",
    "def update_v(vi,m,F,dt):\n",
    "    # calculates and returns the final velocity vector after a short time-step, i.e. v(t+dt) given:\n",
    "    # vi = initial velocity v(t), m = mass, F = net force on the object and dt = time step\n",
    "    vf = vi + F*dt/m\n",
    "    return vf\n",
    "\n",
    "def update_position(ri,vi,m,F,dt):\n",
    "    # calculates and returns the final position vector after a short time-step, i.e. r(t+dt) given:\n",
    "    # ri = initial position v(t), vi = initial velocity v(t), m = mass, F = net force on the object and dt = time step\n",
    "    rf = ri + update_v(vi,m,F,dt)*dt \n",
    "    return rf\n",
    "\n",
    "fns = [Lorentz_F,update_v,update_position]"
   ]
  },
  {
   "cell_type": "code",
   "execution_count": null,
   "id": "b61b4717",
   "metadata": {},
   "outputs": [],
   "source": [
    "#>>>RUN: 4.1-runcell03\n",
    "\n",
    "#Run this cell to check the correctness of your function Lorentz_F(q,v,E,B)\n",
    "\n",
    "# Manual test cases:\n",
    "print(\"Test:           \", Lorentz_F(q=1e-9,v=vector(1,0,0),E=vector(1,0,0),B=vector(0,0,0)), \"N\")\n",
    "print(\"Expected output:\", vector(1e-9,0,0), \"N\")\n",
    "print()\n",
    "print(\"Test:           \", Lorentz_F(q=1e-9,v=vector(2,0,0),E=vector(1,0,0),B=vector(0,1,0)), \"N\")\n",
    "print(\"Expected output:\", vector(1e-9,0,2e-9), \"N\")\n",
    "print()\n",
    "print(\"Test:           \", Lorentz_F(q=1e-9,v=vector(0,1,0),E=vector(1,0,0),B=vector(0,0,1)), \"N\")\n",
    "print(\"Expected output:\", vector(2e-9,0,0), \"N\")"
   ]
  },
  {
   "cell_type": "markdown",
   "id": "1c3252b3",
   "metadata": {},
   "source": [
    "<h3>What it's doing</h3>\n",
    "\n",
    "The code above defines three functions that do the following to calculate the trajectory of a charged object:\n",
    "\n",
    "`Lorentz_F(q,v,E,B)` returns the Lorentz force on a point charge `q` with velocity $\\vec{\\mathbf{v}}$ (in the code `v`) due to both `E` and `B` fields, which must be given.\n",
    "\n",
    "`update_v(vi,m,F,dt)` returns the velocity at time (t+dt), $\\vec{\\mathbf{v}}(t+dt)$ (in the code `vf`), given the velocity at time t, $\\vec{\\mathbf{v}}(t)$ (in the code `vi`), and the force `F`. The timestep `dt` must be defined.\n",
    "\n",
    "`update_position(ri,vi,m,F,dt)` returns the position $\\vec{\\mathbf{r}}(t+dt)$ (in the code `rf`) given $\\vec{\\mathbf{r}}(t)$ and $\\vec{\\mathbf{v}}(t)$ (in the code `ri` and `vi`), and the force `F`. The timestep `dt` must be defined.\n",
    "\n",
    "<b>Note:</b> The funciton `Lorentz_F(q,v,E,B)` is missing only one line of code where you will implement relevant equation for the Lorentz force."
   ]
  },
  {
   "cell_type": "markdown",
   "id": "168eaf49",
   "metadata": {},
   "source": [
    "<a name='section_4_2'></a>\n",
    "\n",
    "<h2 style=\"border:1px; border-style:solid; padding: 0.25em; color: #FFFFFF; background-color: #90409C\">4.2 Motion in a Uniform E field</h2>  \n",
    "\n",
    "| [4.1 Completing the Code](#section_4_1) | [4.2 Uniform E](#section_4_2) |  [4.3 Uniform B](#section_4_3) | [4.4 Uniform E and B](#section_4_4) | [4.5 Background](#section_4_5) | [4.6 Additional Exploration](#section_4_6) |"
   ]
  },
  {
   "cell_type": "markdown",
   "id": "3dff72e9",
   "metadata": {},
   "source": [
    "<h3>The Code</h3>\n",
    "\n",
    "We will now test the correctness of the functions you built by using them to track the motion of a charged object in a uniform electric field. \n",
    " \n",
    "Run the cell below to start the simulation of a positive charged object inside a uniform $\\vec{\\mathbf{E}} = E_y \\;\\hat{\\mathbf{j}} $. Use the following values as a starting point, which represent a particle initially moving along the x-axis only:\n",
    "\n",
    "<pre>\n",
    "variable        units\n",
    "q = 1e-9        [C]\n",
    "m = 1e-27       [kg]\n",
    "v_x = 4         [m/s]\n",
    "v_y = 0         [m/s]\n",
    "v_z = 0         [m/s]\n",
    "E_y = 1         [N/C]\n",
    "B_z = 0         [T]\n",
    "total_time = 20 [s]\n",
    "</pre>"
   ]
  },
  {
   "cell_type": "markdown",
   "id": "88e738b3",
   "metadata": {},
   "source": [
    "<h3>Questions to Consider</h3>\n",
    "\n",
    "<ul>\n",
    "    <li>Describe the motion of the particle based on the default parameters (listed above). Does the simulation give you the expected behavior? Explain.</li>\n",
    "    <li>Describe what happens if you flip the sign of some subset of [velocity, E field, charge]. Explain the variables that you change, your observations, and whether they agree with your expectations.</li>\n",
    "    <li>Describe what happens if you increase or decrease the initial speed of the charge and/or the field strength, keeping `Bz=0`, and `vy=vz=0`.</li>\n",
    "</ul>"
   ]
  },
  {
   "cell_type": "code",
   "execution_count": null,
   "id": "12c6241c",
   "metadata": {},
   "outputs": [],
   "source": [
    "#>>>RUN: 4.2-runcell01\n",
    "\n",
    "simulate_motion(q=1e-9,m=1e-27,vx=4,vy=0,vz=0,Ey=1,Bz=0,total_time = 20,fns=fns)"
   ]
  },
  {
   "cell_type": "markdown",
   "id": "54e50a12",
   "metadata": {},
   "source": [
    "<a name='section_4_3'></a>\n",
    "\n",
    "<h2 style=\"border:1px; border-style:solid; padding: 0.25em; color: #FFFFFF; background-color: #90409C\">4.3 Motion in a Uniform B field</h2>  \n",
    "\n",
    "| [4.1 Completing the Code](#section_4_1) | [4.2 Uniform E](#section_4_2) |  [4.3 Uniform B](#section_4_3) | [4.4 Uniform E and B](#section_4_4) | [4.5 Background](#section_4_5) | [4.6 Additional Exploration](#section_4_6) |"
   ]
  },
  {
   "cell_type": "markdown",
   "id": "f6513436",
   "metadata": {},
   "source": [
    "<h3>The Code</h3>\n",
    "\n",
    "Now we'll run the simulation of a  charged object inside a uniform perpindicular magnetic field. Use the following values as a starting point:\n",
    "\n",
    "<pre>\n",
    "variable        units\n",
    "q = 1e-9        [C]\n",
    "m = 1e-27       [kg]\n",
    "v_x = 4         [m/s]\n",
    "v_y = 0         [m/s]\n",
    "v_z = 0         [m/s]\n",
    "E_y = 0         [N/C] \n",
    "B_z = 1         [T]\n",
    "total_time = 10 [s]\n",
    "</pre>\n",
    "\n",
    "<b>Note:</b> This simulation is a view from the +z-axis so the magnetic field vectors are pointing towards you. You can change the view of the visualization by right-clicking with the mouse."
   ]
  },
  {
   "cell_type": "markdown",
   "id": "b432f272",
   "metadata": {},
   "source": [
    "<h3>Questions to Consider</h3>\n",
    "\n",
    "<ul>\n",
    "    <li>Describe the motion of the particle based on the default parameters (listed above). Does the simulation give you the expected behavior? Explain.</li>\n",
    "    <li>Keeping `Ey=0` and `vy=vz=0`, examine how the path changes if you:\n",
    "        <ul>\n",
    "        <li>flip the sign of some subset of {vx, B field, charge}, </li>\n",
    "        <li>increase or decrease the initial vx of the charge and/or the field strength</li>\n",
    "        </ul>\n",
    "    </li>\n",
    "    <li>Predict the motion of the charge when the initial velocity has a y-component keeping `Ey=0` and `vz=0`. Run the simulation and check your prediction</li>\n",
    "    <li>Predict the motion of the charge when the initial velocity has a z-component keeping `Ey=0`. Run the simulation and check your prediction</li>\n",
    "</ul>"
   ]
  },
  {
   "cell_type": "code",
   "execution_count": null,
   "id": "6bed2e50",
   "metadata": {},
   "outputs": [],
   "source": [
    "#>>>RUN: 4.3-runcell01\n",
    "\n",
    "simulate_motion(q=1e-9,m=1e-27,vx=4,vy=0,vz=0,Ey=0,Bz=1,total_time = 10,fns=fns)"
   ]
  },
  {
   "cell_type": "markdown",
   "id": "682cb55d",
   "metadata": {},
   "source": [
    "<a name='section_4_4'></a>\n",
    "\n",
    "<h2 style=\"border:1px; border-style:solid; padding: 0.25em; color: #FFFFFF; background-color: #90409C\">4.4 Motion in Both Uniform E and B fields</h2>  \n",
    "\n",
    "| [4.1 Completing the Code](#section_4_1) | [4.2 Uniform E](#section_4_2) |  [4.3 Uniform B](#section_4_3) | [4.4 Uniform E and B](#section_4_4) | [4.5 Background](#section_4_5) | [4.6 Additional Exploration](#section_4_6) |"
   ]
  },
  {
   "cell_type": "markdown",
   "id": "03ca403a",
   "metadata": {},
   "source": [
    "<h3>The Code</h3>\n",
    "\n",
    "Now that we know your code simulates the charged particle correctly, let's explore what happens if you switch on both fields at the same time. Use the given values and check what happens:\n",
    "\n",
    "<pre>\n",
    "variable        units\n",
    "q = 1e-9        [C]\n",
    "m = 1e-27       [kg]\n",
    "v_x = 4         [m/s]\n",
    "v_y = 0         [m/s]\n",
    "v_z = 0         [m/s]\n",
    "E_y = 1         [N/C] \n",
    "B_z = 1         [T]\n",
    "total_time = 20 [s]\n",
    "</pre>\n",
    "\n",
    "<b>Note:</b> Details of the cool motion you should see are beyond what we studied in class."
   ]
  },
  {
   "cell_type": "markdown",
   "id": "9754da1c",
   "metadata": {},
   "source": [
    "<h3>Questions to Consider</h3>\n",
    "\n",
    "<ul>\n",
    "    <li>What parameters will you use to make the object move with a constant velocity? Explain your reasoning and provide a screenshot of the straight line path using the next cell.</li>\n",
    "</ul>"
   ]
  },
  {
   "cell_type": "code",
   "execution_count": null,
   "id": "b8e9c2f5",
   "metadata": {},
   "outputs": [],
   "source": [
    "#>>>RUN: 4.4-runcell01\n",
    "\n",
    "simulate_motion(q=1e-9,m=1e-27,vx=4,vy=0,vz=0,Ey=1,Bz=1,total_time = 20,fns=fns)"
   ]
  },
  {
   "cell_type": "markdown",
   "id": "5b31f9a6",
   "metadata": {},
   "source": [
    "<a name='section_4_5'></a>\n",
    "\n",
    "<h2 style=\"border:1px; border-style:solid; padding: 0.25em; color: #FFFFFF; background-color: #90409C\">4.5 Background</h2>  \n",
    "\n",
    "| [4.1 Completing the Code](#section_4_1) | [4.2 Uniform E](#section_4_2) |  [4.3 Uniform B](#section_4_3) | [4.4 Uniform E and B](#section_4_4) | [4.5 Background](#section_4_5) | [4.6 Additional Exploration](#section_4_6) |"
   ]
  },
  {
   "cell_type": "markdown",
   "id": "c55d6f63",
   "metadata": {},
   "source": [
    "When a charged object is within a region of Electric and/or Magnetic fields, the net force on it can be calculated as:\n",
    "\n",
    "$$\\vec{\\mathbf{F}} = q\\vec{\\mathbf{E}} + q\\vec{\\mathbf{v}} \\times \\vec{\\mathbf{B}}$$\n",
    "\n",
    "This net electromagnetic force is called the Lorentz force.\n",
    "\n",
    "To find the trajectory of the charged object within the field(s), we need to utilize Newton's 2nd law to examine the effect of the Lorentz force on the momentum (and hence velocity) of the object.\n",
    " \n",
    "$$\\vec{\\mathbf{p}_f} = \\vec{\\mathbf{p}_i} + \\int_{t_i}^{t_f} \\vec{\\mathbf{F}} dt$$\n",
    "\n",
    "One way to build a simulation that tracks the trajectory of the system is to divide the time interval $(t_f - t_i)$ into small time-steps $dt$ such that the we can treat the force as a constant during each short time interval. Then we can update the velocity and position vector after each time-step as follows [for more details about numerical integration, check <a href=\"https://web.mit.edu/10.001/Web/Course_Notes/Differential_Equations_Notes/node3.html\">here</a>]:\n",
    "\n",
    "$$\\vec{\\mathbf{v}}(t+dt) = \\vec{\\mathbf{v}}(t) + \\dfrac{\\vec{\\mathbf{F}}}{m}dt$$\n",
    "\n",
    "$$\\vec{\\mathbf{r}}(t+dt) = \\vec{\\mathbf{r}}(t) + \\vec{\\mathbf{v}}(t+dt) dt$$"
   ]
  },
  {
   "cell_type": "markdown",
   "id": "319ea096",
   "metadata": {},
   "source": [
    "<a name='section_4_6'></a>\n",
    "\n",
    "\n",
    "<h2 style=\"border:1px; border-style:solid; padding: 0.25em; color: #FFFFFF; background-color: #90409C\">4.6 Additional Exploration</h2>  \n",
    "\n",
    "| [4.1 Completing the Code](#section_4_1) | [4.2 Uniform E](#section_4_2) |  [4.3 Uniform B](#section_4_3) | [4.4 Uniform E and B](#section_4_4) | [4.5 Background](#section_4_5) | [4.6 Additional Exploration](#section_4_6) |"
   ]
  },
  {
   "cell_type": "markdown",
   "id": "383a516a",
   "metadata": {},
   "source": [
    "<h3>Run</h3>\n",
    "\n",
    "Run the code below to visualize cyclotron motion, which is described below."
   ]
  },
  {
   "cell_type": "code",
   "execution_count": null,
   "id": "bd532b77",
   "metadata": {},
   "outputs": [],
   "source": [
    "#>>>RUN: 4.6-runcell01\n",
    "\n",
    "cyclotron(E=0.3,B=4)"
   ]
  },
  {
   "cell_type": "markdown",
   "id": "c48afcf6",
   "metadata": {},
   "source": [
    "<h3>What it's doing: cyclotron motion</h3>\n",
    "\n",
    "A cyclotron is a device used to accelerate charges using a region with uniform E field. As soon as the object leaves the E-field region, it enters a uniform magnetic field that rotates it such that it goes through the E-field region again to get accelerated more. The E field has to switch direction every half cycle as the object keeps entering it with alternating velocity directions. Run the cell below to simulate the motion inside a cyclotron.\n",
    "<img src=\"images/cyclotron.gif\" width=500 />"
   ]
  },
  {
   "cell_type": "markdown",
   "id": "7e504fa1",
   "metadata": {},
   "source": [
    "<h3>Questions to Consider</h3>\n",
    "\n",
    "<ul>\n",
    "    <li>If you want the charged particle to pass through the accelerating middle region as many times as possible, would you increase or decrease the magnitude of B? Explain your logic and verify using the simulation.</li>\n",
    "    <li>As the particle gains more speed each cycle, does the period/frequency of one cycle change from one cycle to another? Explain your logic.</li>\n",
    "</ul>"
   ]
  }
 ],
 "metadata": {
  "kernelspec": {
   "display_name": "8.802",
   "language": "python",
   "name": "8.802"
  },
  "language_info": {
   "codemirror_mode": {
    "name": "ipython",
    "version": 3
   },
   "file_extension": ".py",
   "mimetype": "text/x-python",
   "name": "python",
   "nbconvert_exporter": "python",
   "pygments_lexer": "ipython3",
   "version": "3.9.16"
  },
  "vscode": {
   "interpreter": {
    "hash": "aee8b7b246df8f9039afb4144a1f6fd8d2ca17a180786b69acc140d282b71a49"
   }
  }
 },
 "nbformat": 4,
 "nbformat_minor": 4
}
