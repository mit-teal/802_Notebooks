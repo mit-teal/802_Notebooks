{
 "cells": [
  {
   "cell_type": "markdown",
   "metadata": {},
   "source": [
    "<h1 style=\"color: #90409C\"><ins>Notebook 3:</ins> Visualizing Equipotentials of Discrete Charge Distributions</h1>\n",
    "\n",
    "<br/>"
   ]
  },
  {
   "cell_type": "markdown",
   "metadata": {},
   "source": [
    "<h4 style=\"color: #90409C\"><i>This notebook was authored by the ES.802 + 8.02 Course Team, Copyright 2023 MIT All Rights Reserved.</i></h4>\n",
    "\n",
    "<a name='section_3_1'></a>\n",
    "\n",
    "<h2 style=\"border:1px; border-style:solid; padding: 0.25em; color: #FFFFFF; background-color: #90409C\">3.1 Completing the Code</h2>  \n",
    "\n",
    "| [3.1 Completing the Code](#section_3_1) | [3.2 Visualizations](#section_3_2) | [3.3 Additional Exploration](#section_3_3) | [3.4 Background](#section_3_4) |"
   ]
  },
  {
   "cell_type": "code",
   "execution_count": null,
   "metadata": {},
   "outputs": [],
   "source": [
    "#>>>RUN: 3.1-runcell01\n",
    "# Visualization code credit: https://github.com/tomduck/electrostatics\n",
    "from vpython import *  #Here we're importing all the vpython package\n",
    "from equipotentials import draw_E_and_V\n",
    "%matplotlib inline\n",
    "import warnings\n",
    "warnings.filterwarnings('ignore')"
   ]
  },
  {
   "cell_type": "code",
   "execution_count": null,
   "metadata": {},
   "outputs": [],
   "source": [
    "#>>>COMPLETE: 3.1-runcell02\n",
    "\n",
    "#Here we will complete a function that calculates the E-field of a point charge at some point P in space\n",
    "#Fill in the relevant parts of the function below\n",
    "\n",
    "def calculate_V(q,r_S,r_P):\n",
    "    #The function takes the following generic inputs:\n",
    "    #q: value of the point charge in C,\n",
    "    #r_S: [x_S,y_S,z_S] coordinates of the source point in m,\n",
    "    #r_P: [x_P,y_P,z_P] coordinates of point P in m    \n",
    "    # and returns the potential V by the source S at point P.\n",
    "   \n",
    "    \n",
    "    e0 = 8.854187817e-12  \n",
    "    k = 1.0 / (4 * pi * e0)\n",
    "    \n",
    "    # Reminder 1: use sqrt( ) for square root and x**2 for x^2. \n",
    "    # Reminder 2: the coordinates are elements of a list; for example, for the position of the charge\n",
    "    # x_S = r_S[0], y_S= r_S[1], z_S=r_S[2]. \n",
    "    \n",
    "    #FIRST: Calculate the distance between S and P\n",
    "    rSP = 0 #FILL IN\n",
    "    \n",
    "    #SECOND: Calculate the potential V at P    \n",
    "    V = 0 #FILL IN\n",
    "    \n",
    " \n",
    "    return(V)"
   ]
  },
  {
   "cell_type": "code",
   "execution_count": null,
   "metadata": {},
   "outputs": [],
   "source": [
    "#>>>RUN: 3.1-runcell03\n",
    "\n",
    "# Manual test cases:\n",
    "print(\"Test:           \", round(calculate_V(1e-9,[0,0,0],[0,2,0]),6),\"N/mC\")\n",
    "print(\"Expected output:\", 4.493776, \"N/mC\")\n",
    "print(\"Test:           \", round(calculate_V(-5e-9,[-2,1,0],[0,-3,2]),6),\"N/mC\")\n",
    "print(\"Expected output:\", -9.172882, \"N/mC\")\n",
    "print(\"Test:           \", round(calculate_V(-2e-9,[-1,3,-2],[-4,-3,-3]),6),\"N/mC\")\n",
    "print(\"Expected output:\", -2.650284, \"N/mC\")"
   ]
  },
  {
   "cell_type": "markdown",
   "metadata": {},
   "source": [
    "<h3>What it's doing</h3>\n",
    "\n",
    "The code above defines a function called `calculate_V` that takes three inputs, the charge `q`, and the coordinates of two points `r_S` and `r_P`. The function calculates the electric potential `V` at point `P` due to a point charge `q` located at point `S`.\n",
    "\n",
    "The function defines the constants `e0` and `k` in SI units, where `e0` is the vacuum permittivity and `k` is the Coulomb constant. Next, the function calculates the distance `rSP` between the point charge and point `P` using the distance formula. Finally, the function computes and returns the scalar `V`."
   ]
  },
  {
   "cell_type": "markdown",
   "metadata": {},
   "source": [
    "<a name='section_3_2'></a>\n",
    "\n",
    "\n",
    "<h2 style=\"border:1px; border-style:solid; padding: 0.25em; color: #FFFFFF; background-color: #90409C\">3.2 Visualizations</h2>  \n",
    "\n",
    "\n",
    "| [3.1 Completing the Code](#section_3_1) | [3.2 Visualizations](#section_3_2) | [3.3 Additional Exploration](#section_3_3) | [3.4 Background](#section_3_4) |"
   ]
  },
  {
   "cell_type": "markdown",
   "metadata": {},
   "source": [
    "<h3>1. Equipotentials of Point Charges</h3>\n",
    "\n",
    "Run the cell below to numerically draw the field lines (solid black) and equipotentials (dotted) for a single charge of magnitude $ 1\\,\\mathrm{nC}$."
   ]
  },
  {
   "cell_type": "code",
   "execution_count": null,
   "metadata": {},
   "outputs": [],
   "source": [
    "#>>>RUN: 3.2-runcell01\n",
    "\n",
    "draw_E_and_V([1e-9],[[0,0,0]])\n",
    "# E-Field lines are indicated by solid black lines, while equipotentials are the dotted lines  \n",
    "# Background color indicates the absolute value of potential."
   ]
  },
  {
   "cell_type": "markdown",
   "metadata": {},
   "source": [
    "<h3>2. Equipotentials of Dipole Configurations</h3>\n",
    "\n",
    "Run the cell below to numerically draw the field lines and equipotentials for a dipole of charges $\\pm 1\\,\\mathrm{nC}$ separated by a distance of $2\\,\\mathrm{m}$.  "
   ]
  },
  {
   "cell_type": "code",
   "execution_count": null,
   "metadata": {},
   "outputs": [],
   "source": [
    "#>>>RUN: 3.2-runcell02\n",
    "\n",
    "# Dipole configuration \n",
    "# The first input of the function below is a list of charges [Q1,Q2,...]\n",
    "# The second input is a list of lists  of positions [[x_S1,y_S1,z_S1],[x_S2,y_S2,z_S2],...] \n",
    "\n",
    "Q = 1e-9\n",
    "a = 1\n",
    "\n",
    "draw_E_and_V([Q, - Q],[[-a,0,0], [a,0,0]])"
   ]
  },
  {
   "cell_type": "markdown",
   "metadata": {},
   "source": [
    "<h3>3. Equipotentials of Multi-Charge Configurations</h3>\n",
    "\n",
    "draw the field lines and equipotentials for three point charges: $−Q$, $+Q$ , and $−Q$  located a distance $3a$ apart along the x-axis (see sketch below). \n",
    "\n",
    "<div align=\"center\">\n",
    "<img src=\"images/three_charges.png\" width=200 />\n",
    "</div>"
   ]
  },
  {
   "cell_type": "code",
   "execution_count": null,
   "metadata": {},
   "outputs": [],
   "source": [
    "#>>>RUN: 3.2-runcell03\n",
    "\n",
    "# Threee charges configuration \n",
    "# The first input of the function below is a list of charges [Q1,Q2,...]\n",
    "# The second input is a list of lists  of positions [[x_S1,y_S1,z_S1],[x_S2,y_S2,z_S2],...] \n",
    "\n",
    "Q = 1e-9\n",
    "a = 1\n",
    "\n",
    "draw_E_and_V([-Q,Q,-Q],[[-3*a,0,0],[0,0,0],[3*a,0,0]])"
   ]
  },
  {
   "cell_type": "markdown",
   "metadata": {},
   "source": [
    "<a name='section_3_3'></a>\n",
    "\n",
    "\n",
    "<h2 style=\"border:1px; border-style:solid; padding: 0.25em; color: #FFFFFF; background-color: #90409C\">3.3 Additional Exploration</h2> \n",
    "\n",
    "| [3.1 Completing the Code](#section_3_1) | [3.2 Visualizations](#section_3_2) | [3.3 Additional Exploration](#section_3_3) | [3.4 Background](#section_3_4) |"
   ]
  },
  {
   "cell_type": "markdown",
   "metadata": {},
   "source": [
    "<h3>Pick your own distribution!</h3>\n",
    "     \n",
    "Decide a fun configuration to plot! It can consist of 3 or 4 point charges, but keep the magnitudes of the order of $\\mathrm{nC}$. Choose their signs and place them anywhere you want to observe the resulting fields and potentials everywhere. Modify the code below to draw your configuration. "
   ]
  },
  {
   "cell_type": "code",
   "execution_count": null,
   "metadata": {},
   "outputs": [],
   "source": [
    "#>>>COMPLETE: 3.3-runcell01\n",
    "\n",
    "#produce a visualization for your own distribution of 3-4 charges\n",
    "#optionally set the parameter lines=False to remove the electric field lines\n",
    "\n",
    "draw_E_and_V([1e-9],[[0,0,0]])"
   ]
  },
  {
   "cell_type": "markdown",
   "metadata": {},
   "source": [
    "<a name='section_3_4'></a>\n",
    "\n",
    "<h2 style=\"border:1px; border-style:solid; padding: 0.25em; color: #FFFFFF; background-color: #90409C\">3.4 Background</h2>  \n",
    "\n",
    "\n",
    "| [3.1 Completing the Code](#section_3_1) | [3.2 Visualizations](#section_3_2) | [3.3 Additional Exploration](#section_3_3) | [3.4 Background](#section_3_4) |"
   ]
  },
  {
   "cell_type": "markdown",
   "metadata": {},
   "source": [
    "The change in electric potential between two points $\\vec r_A$ and $\\vec r_B$ is defined as the change in electric potential energy per unit charge between the same two points:\n",
    "\n",
    "$$ V(\\vec{r}_B) - V(\\vec{r}_A) = \\frac{U(\\vec{r}_B) - U(\\vec{r}_A)}{q} = - \\int_{\\vec {r}_A}^{\\vec {r}_b} \\vec {E}    \\cdot d\\vec{s}$$\n",
    "\n",
    "\n",
    "Assuming a reference for electric potential at infinity, i.e. $V(\\infty)=0$, the electric potential produced by a point charge $q$ at a point P in space is given by \n",
    "\n",
    "\n",
    "$$  V = \\frac{kq}{|\\vec{\\mathbf{r}}_P-\\vec{\\mathbf{r}}_S|} \\;\\;\\; \\mbox{(eq. 1)}$$\n",
    "\n",
    "\n",
    "where \n",
    "\n",
    "$k=\\frac{1}{4\\pi\\epsilon_0}$ is the Coulomb constant\n",
    "\n",
    "$\\vec{\\mathbf{r}}_S $= source point, or the position of the charge producing the potential\n",
    "\n",
    "$\\vec{\\mathbf{r}}_P $= field point, or the position of point P where we want to calculate the potential.\n",
    "\n",
    "If the coordinates of the source point are:\n",
    "\n",
    "$$\\vec{\\mathbf{r}}_S = (x_S, y_S, z_S)$$\n",
    "\n",
    "and the coordinates of the field point are:\n",
    "\n",
    "$$\\vec{\\mathbf{r}}_P = (x_P, y_P, z_P)$$\n",
    "\n",
    "then\n",
    "\n",
    "$$\\vec{\\mathbf{r}}_P-\\vec{\\mathbf{r}}_S = (x_P-x_S)\\; \\hat{\\mathbf{i}} + (y_P-y_S)\\; \\hat{\\mathbf{j}} + (z_P-z_S) \\;\\hat{\\mathbf{k}} \\;\\;\\;\\; \\mbox{(eq. 2)}$$\n",
    "\n",
    "We will call the distance between the two points $r_{SP}$ which is defined as \n",
    "\n",
    "$$r_{SP} = |\\vec{\\mathbf{r}}_P-\\vec{\\mathbf{r}}_S|  \\;\\;\\; \\mbox{(eq. 3)}$$\n",
    " \n",
    "The above equations should help you when you fill in the function `calculate_V( )` in the code above. "
   ]
  }
 ],
 "metadata": {
  "kernelspec": {
   "display_name": "8.802",
   "language": "python",
   "name": "8.802"
  },
  "language_info": {
   "codemirror_mode": {
    "name": "ipython",
    "version": 3
   },
   "file_extension": ".py",
   "mimetype": "text/x-python",
   "name": "python",
   "nbconvert_exporter": "python",
   "pygments_lexer": "ipython3",
   "version": "3.9.16"
  },
  "vscode": {
   "interpreter": {
    "hash": "aee8b7b246df8f9039afb4144a1f6fd8d2ca17a180786b69acc140d282b71a49"
   }
  }
 },
 "nbformat": 4,
 "nbformat_minor": 4
}
