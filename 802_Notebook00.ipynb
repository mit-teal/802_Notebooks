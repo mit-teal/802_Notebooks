{
 "cells": [
  {
   "cell_type": "markdown",
   "metadata": {},
   "source": [
    "<h1 style=\"color: #90409C\"><ins>Notebook 0:</ins> Introduction to Jupyter Notebooks and Python</h1>\n",
    "\n",
    "<br/>"
   ]
  },
  {
   "cell_type": "markdown",
   "metadata": {},
   "source": [
    "<h4 style=\"color: #90409C\"><i>This notebook was authored by the ES.802 + 8.02 Course Team, Copyright 2023 MIT All Rights Reserved.</i></h4>\n",
    "\n",
    "<a name='section_0_1'></a>\n",
    "\n",
    "<h2 style=\"border:1px; border-style:solid; padding: 0.25em; color: #FFFFFF; background-color: #90409C\">0.1 Using an Online Notebook</h2>\n",
    "\n",
    "| [0.1 Using an Online Notebook](#section_0_1) | [0.2 Libraries and Settings](#section_0_2) | [0.3 Introduction to Python Syntax](#section_0_3) | [0.4 Example Visualization](#section_0_4) |"
   ]
  },
  {
   "cell_type": "markdown",
   "metadata": {},
   "source": [
    "In this activity, you will learn how to edit and run an Online Notebook. You will also be exposed to some basic syntax in Python, the programming language used in 8.02 visualizations. **Browse this notebook and complete the parts that are relevant to you.** You might also find this notebook helpful for troubleshooting, in the future.\n",
    "\n",
    "Note, if you have not used Python or Jupyter notebooks before, we recommend completing all parts of this notebook. However, don't worry about having to learn Python from scratch, if you are unfamilar with it. We will remind you of the syntax when needed, in future assignments.\n",
    "\n",
    "As always, we welcome you to come to office hours to ask questions related to Python, or just to say hello. We are looking forward to meeting you!"
   ]
  },
  {
   "cell_type": "markdown",
   "metadata": {},
   "source": [
    "<a name='section_0_2'></a>\n",
    "\n",
    "<h2 style=\"border:1px; border-style:solid; padding: 0.25em; color: #FFFFFF; background-color: #90409C\">0.2 Libraries and Settings</h2>\n",
    "\n",
    "| [0.1 Using an Online Notebook](#section_0_1) | [0.2 Libraries and Settings](#section_0_2) | [0.3 Introduction to Python Syntax](#section_0_3) | [0.4 Example Visualization](#section_0_4) |"
   ]
  },
  {
   "cell_type": "markdown",
   "metadata": {},
   "source": [
    "Start by clicking on the code cell below (the contour will change color) and then either click <font color=\"light blue\"><b> Run </b></font> in the top menu to execute it OR hit `Shift + Enter`."
   ]
  },
  {
   "cell_type": "code",
   "execution_count": null,
   "metadata": {},
   "outputs": [],
   "source": [
    "#>>>RUN: 0.1-runcell01\n",
    "\n",
    "# Running this cell will import relevant libraries for this notebook\n",
    "# If you get an error when running this cell, check the kernel on the top right:\n",
    "# it has to be 802cvmfs or 802.\n",
    "\n",
    "from vpython import *  #Here we're importing all the vpython package\n",
    "import matplotlib as plt"
   ]
  },
  {
   "cell_type": "markdown",
   "metadata": {},
   "source": [
    "<font color=\"red\"><b>REMINDER: Save your work often!</font></b>"
   ]
  },
  {
   "cell_type": "markdown",
   "metadata": {},
   "source": [
    "<a name='section_0_3'></a>\n",
    "\n",
    "<h2 style=\"border:1px; border-style:solid; padding: 0.25em; color: #FFFFFF; background-color: #90409C\">0.3 Introduction to Python Syntax</h2>  \n",
    "\n",
    "| [0.1 Using an Online Notebook](#section_0_1) | [0.2 Libraries and Settings](#section_0_2) | [0.3 Introduction to Python Syntax](#section_0_3) | [0.4 Example Visualization](#section_0_4) |"
   ]
  },
  {
   "cell_type": "markdown",
   "metadata": {},
   "source": [
    "<hr style=\"height: 1px;\">\n",
    "\n",
    "<h3>1.  Indentation</h3>\n",
    "\n",
    "Indentation is mandatory in Python to define the blocks of statements. The number of spaces must be uniform in a block of code. </font><b> When you uncomment a line (as we will ask below and in the problems), be sure the indentation (= the number of spaces) is consistent with the rest of the block</b></font> ."
   ]
  },
  {
   "cell_type": "markdown",
   "metadata": {},
   "source": [
    "<hr style=\"height: 1px;\">\n",
    "\n",
    "<h3> 2.  Basic operations</h3>\n",
    "\n",
    "<h4> a) Addition, subtraction, multiplication and division</h4>  \n",
    "\n",
    "You can type simple operations in the cells.  The example below shows: `2+3` .Click on the code cell, and then \n",
    "\n",
    " click <font color=\"blue\"><b>Run</b></font> in the top menu: the output will appear in a new cell  below, identified by <b><font color=\"red\">Out[ ] = </font></b>.\n"
   ]
  },
  {
   "cell_type": "code",
   "execution_count": null,
   "metadata": {},
   "outputs": [],
   "source": [
    "#>>>RUN: 0.2-runcell01\n",
    "\n",
    "#You can delete 2+3 and enter other statements.\n",
    "#Try for example:  5-7, 6/2, 3*4, 6%2, 6/5. \n",
    "#Always click Run to see the output and make sense of it.\n",
    "\n",
    "2+3"
   ]
  },
  {
   "cell_type": "markdown",
   "metadata": {},
   "source": [
    "<h4>b) Exponentiation:</h4>\n",
    "\n",
    "This one is tricky!!  For $2^3$ type `2**3` and run it!\n"
   ]
  },
  {
   "cell_type": "code",
   "execution_count": null,
   "metadata": {},
   "outputs": [],
   "source": [
    "#>>>COMPLETE: 0.2-runcell02\n",
    "\n"
   ]
  },
  {
   "cell_type": "markdown",
   "metadata": {},
   "source": [
    "<hr style=\"height: 1px;\">\n",
    "\n",
    "<h3> 3. Storing information in variables</h3>\n",
    "\n",
    "Variables provide a way to associate names with objects.\n",
    "<ul>\n",
    "\n",
    "<li>Example 1: The statement <code>a = 5.2</code>  binds the float (the data type used to represent real numbers) <code>5.2</code> to the variable <code>a</code>.</li>\n",
    "\n",
    "<li>Example 2: The statement <code>b = \"Hello MIT\"</code> binds the string <code>Hello MIT</code> to the variable <code>b</code>. </li>\n",
    "</ul>\n",
    "\n",
    "<b>Note 1:</b> the quotation marks are used to identify the object as a string, an object used to represent characters.\n",
    "\n",
    "<b>Note 2:</b> upper and lowercase letters are different in Python! If you define <code>a = 5.2</code>, you are not binding <code>A</code> to the same value."
   ]
  },
  {
   "cell_type": "markdown",
   "metadata": {},
   "source": [
    "<hr style=\"height: 1px;\">\n",
    "\n",
    "<h3> 4. Print statement </h3>\n",
    "\n",
    "The `print( )` function shows as output anything you put in between the parenthesis. Let's try this function. Type in the cell below:\n",
    "\n",
    "<ul>   \n",
    "    <li><code>a = 5.2</code></li>\n",
    "    <li><code>b = \"Hello MIT\"</code></li>    \n",
    "</ul>\n",
    "\n",
    "Click <b>Run</b>: nothing happens! \n"
   ]
  },
  {
   "cell_type": "code",
   "execution_count": null,
   "metadata": {},
   "outputs": [],
   "source": [
    "#>>>COMPLETE: 0.2-runcell03\n",
    "\n"
   ]
  },
  {
   "cell_type": "markdown",
   "metadata": {},
   "source": [
    "If you want to know what is stored in the variables <b>a</b> and <b>b</b> just use the print( ) function typing in the cell the following statements:\n",
    "\n",
    "<ul> \n",
    "    <li><code>print(a)</code></li>\n",
    "    <li><code>print(b)</code></li>\n",
    "</ul>\n",
    "    \n",
    "and run it again."
   ]
  },
  {
   "cell_type": "code",
   "execution_count": null,
   "metadata": {},
   "outputs": [],
   "source": [
    "#>>>COMPLETE: 0.2-runcell04\n"
   ]
  },
  {
   "cell_type": "markdown",
   "metadata": {},
   "source": [
    "You can also be more explicit by adding some text to describe what you are printing. <b> Note:</b> you must put the text between quotation marks as follows:\n",
    "\n",
    "<ul> \n",
    "    <li><code>print( \"This is what I stored in a:\", a )</code></li>\n",
    "</ul>\n",
    "\n",
    "Also, note that we separate the two arguments inside the parenthesis by a comma."
   ]
  },
  {
   "cell_type": "code",
   "execution_count": null,
   "metadata": {},
   "outputs": [],
   "source": [
    "#>>>COMPLETE: 0.2-runcell05\n",
    "\n"
   ]
  },
  {
   "cell_type": "markdown",
   "metadata": {},
   "source": [
    "<hr style=\"height: 1px;\">\n",
    "\n",
    "<h3>5. Storing information in a list.</h3>\n",
    "\n",
    "A list is an ordered sequence of values, where each value is identified by an index.\n",
    "Lists are written by enclosing a comma-separated list of elements within square parentheses.  We will not ask you to design and write a list on your own, just to extract specific elements.\n",
    "\n",
    "Example: MyList is a list that stores the integer numbers 2, -3, and 8. Copy and paste it in the cell below  \n",
    " \n",
    "<ul>\n",
    "    <li><code>MyList = [ 2, -3, 8]</code></li>\n",
    "</ul>\n",
    "\n",
    "You can print to the screen all the list by typing:\n",
    "<ul>\n",
    "    <li><code>print( MyList )</code></li>\n",
    "</ul>\n",
    "\n",
    "You can also print the elements of the list. In Python, the index of a list starts at 0. In this example, MyList has a length of 3 so the index starts at 0 and ends at 2. Check it by typing:\n",
    "\n",
    "<ul>\n",
    "    <li><code>print(\"The first element of MyList is:\" , MyList[ 0 ] )</code></li>\n",
    "    <li><code>print(\"The second element of MyList is:\" , MyList[ 1 ] )</code></li>\n",
    "    <li><code>print(\"The third element of MyList is:\" , MyList[ 2 ] )</code></li>\n",
    "</ul>\n",
    "\n",
    "Click <b>Run</b>.\n"
   ]
  },
  {
   "cell_type": "code",
   "execution_count": null,
   "metadata": {},
   "outputs": [],
   "source": [
    "#>>>COMPLETE: 0.2-runcell06\n",
    "\n"
   ]
  },
  {
   "cell_type": "markdown",
   "metadata": {},
   "source": [
    "<hr style=\"height: 1px;\">\n",
    "\n",
    "<h3> 6. Adding explanatory text to your code </h3>\n",
    "\n",
    "Anything preceeded by the hash symbol # is a \"comment\", meaning that it is not interpreted by Python. See an example below:\n"
   ]
  },
  {
   "cell_type": "code",
   "execution_count": null,
   "metadata": {},
   "outputs": [],
   "source": [
    "#>>>RUN: 0.2-runcell07\n",
    "\n",
    "NewList = [1,2,3,4]  # Here is my new list\n",
    "\n",
    "#I will print the 3rd element of the list and I will NOT print the 1st element\n",
    "\n",
    "print(\"The 3rd element\", NewList[2])\n",
    "#print(\"The 1st element\", NewList[0]))\n",
    "print(\"Note that nothing behind the # is executed\")\n",
    "\n",
    "# Do not forget to Click Run"
   ]
  },
  {
   "cell_type": "markdown",
   "metadata": {},
   "source": [
    "<hr style=\"height: 1px;\">\n",
    "\n",
    "<h3>7. Functions in Python  </h3>\n",
    "\n",
    "Python comes with a large library of functions, print( ) is one of them. You can also write your own function!</font><b> We will not ask you to write a function, just to modify what is in the body: be careful with indentation when you do so!</b></font>\n",
    "\n",
    "A function is a generic piece of code that can be used repeatedly. It takes a number of parameters, then it executes the code in the body of the function  until either a return statement is encountered, in which case the value of the expression following the return becomes the value of the function invocation, or there are no more statements to execute, in which case the function returns the value None. \n",
    "\n",
    "We now write as an example a function that has a number as input parameter and that returns a value equal to the square of the number. We will call this function square( ). The syntax is explained in the cell below. To use the function you need to call it with actual parameter/s, as show in the example. \n",
    "    \n",
    "</font><b>Notice the indentation. We do not define x inside the function: x is passed to it when we call it.\n",
    "The body assumes that x is known. </b></font>"
   ]
  },
  {
   "cell_type": "code",
   "execution_count": null,
   "metadata": {},
   "outputs": [],
   "source": [
    "#>>>RUN: 0.2-runcell08\n",
    "\n",
    "def square(x): # name of function (list of formal parameters)\n",
    "    \"\"\"This function returns the square of a float or integer x\"\"\" # This is a docstring, it provides\n",
    "    # documentation about the function\n",
    "    return x**2  # body of the function\n",
    "\n",
    "z = square(6) # call the function binding the actual parameter 6 to the formal parameter x\n",
    "print(z)"
   ]
  },
  {
   "cell_type": "markdown",
   "metadata": {},
   "source": [
    "Self-check.</font><b> Now try to run the cell below: what happens? How would you fix it? </b></font>"
   ]
  },
  {
   "cell_type": "code",
   "execution_count": null,
   "metadata": {},
   "outputs": [],
   "source": [
    "#>>>COMPLETE: 0.2-runcell09\n",
    "\n",
    "def square(x): # name of function (list of formal parameters)\n",
    "    \"\"\"This function returns the square of a float or integer x\"\"\" # This is a docstring, it provides\n",
    "    # documentation about the function\n",
    "return x**2  # body of the function\n",
    "\n",
    "z = square(6) # call the function binding the actual parameter 6 to the formal parameter x\n",
    "print(z)"
   ]
  },
  {
   "cell_type": "markdown",
   "metadata": {},
   "source": [
    "<a name='section_0_4'></a>\n",
    "\n",
    "<h2 style=\"border:1px; border-style:solid; padding: 0.25em; color: #FFFFFF; background-color: #90409C\">0.4 Example Visualization</h2>  \n",
    "\n",
    "| [0.1 Using an Online Notebook](#section_0_1) | [0.2 Libraries and Settings](#section_0_2) | [0.3 Introduction to Python Syntax](#section_0_3) | [0.4 Example Visualization](#section_0_4) |"
   ]
  },
  {
   "cell_type": "markdown",
   "metadata": {},
   "source": [
    "**You can run the cell below to have an idea of what sort of simulations we will be working on.** The code below simulates a ball that falls under the effect of gravity and bounces on the ground for an arbitrary finite time. You can change parameters such as gravity, the restitution coefficient $e$ (controlling how elastic the collision with the ground is), and the initial vertical velocity.\n",
    "\n",
    "In future assignments, you will be asked to complete small parts of code to complete a visualization like the one below. If you are interested in the code that generates the visualization below, you can read the code in the file `bouncing_ball.py` (but you are not expected to do this).\n",
    "\n",
    "<font color=\"red\"><b>If the cell below gets stuck, save it, then go to File -> Close and Shutdown Notebook. </font></b>"
   ]
  },
  {
   "cell_type": "code",
   "execution_count": null,
   "metadata": {},
   "outputs": [],
   "source": [
    "#>>>RUN: CTA1.1-runcell10\n",
    "\n",
    "# Import the file with a simple simulation\n",
    "\n",
    "from bouncing_ball import *\n",
    "\n",
    "#PARAMETERS TO PLAY WITH\n",
    "\n",
    "# Gravitational acceleration\n",
    "g = 9.8  # m/s^2   \n",
    "# coefficient of restitution\n",
    "e = 1.2\n",
    "# initial component of the velocity in the vertical direction\n",
    "vy = 0\n",
    "\n",
    "#Call the simulation function bouncing_ball_restitution\n",
    "\n",
    "bouncing_ball_restitution(g,e,vy)"
   ]
  }
 ],
 "metadata": {
  "kernelspec": {
   "display_name": "Python 3 (ipykernel)",
   "language": "python",
   "name": "python3"
  },
  "language_info": {
   "codemirror_mode": {
    "name": "ipython",
    "version": 3
   },
   "file_extension": ".py",
   "mimetype": "text/x-python",
   "name": "python",
   "nbconvert_exporter": "python",
   "pygments_lexer": "ipython3",
   "version": "3.9.9"
  },
  "vscode": {
   "interpreter": {
    "hash": "aee8b7b246df8f9039afb4144a1f6fd8d2ca17a180786b69acc140d282b71a49"
   }
  }
 },
 "nbformat": 4,
 "nbformat_minor": 4
}
